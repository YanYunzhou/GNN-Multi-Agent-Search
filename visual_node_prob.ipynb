{
 "cells": [
  {
   "cell_type": "code",
   "execution_count": 1,
   "id": "622dea75",
   "metadata": {
    "pycharm": {
     "name": "#%%\n"
    }
   },
   "outputs": [
    {
     "name": "stdout",
     "output_type": "stream",
     "text": [
      "Traceback (most recent call last):\r\n",
      "  File \"main.py\", line 12, in <module>\r\n",
      "    from utils.config import *\r\n",
      "  File \"/auto/homes/ql295/PycharmProjects/GNN_MultiAgentSearch/utils/config.py\", line 14, in <module>\r\n",
      "    from easydict import EasyDict\r\n",
      "ModuleNotFoundError: No module named 'easydict'\r\n"
     ]
    }
   ],
   "source": [
    "!python -u  main.py --env_name BoxEnv --mode test --log_time 1658842393 --gpu_device 3 --negative_sampling for_test --exp_setting BoxEnv_just_optimal_test"
   ]
  },
  {
   "cell_type": "code",
   "execution_count": null,
   "id": "6d86e83e",
   "metadata": {
    "pycharm": {
     "name": "#%%\n"
    }
   },
   "outputs": [],
   "source": []
  }
 ],
 "metadata": {
  "kernelspec": {
   "display_name": "Python 3 (ipykernel)",
   "language": "python",
   "name": "python3"
  },
  "language_info": {
   "codemirror_mode": {
    "name": "ipython",
    "version": 3
   },
   "file_extension": ".py",
   "mimetype": "text/x-python",
   "name": "python",
   "nbconvert_exporter": "python",
   "pygments_lexer": "ipython3",
   "version": "3.8.13"
  }
 },
 "nbformat": 4,
 "nbformat_minor": 5
}